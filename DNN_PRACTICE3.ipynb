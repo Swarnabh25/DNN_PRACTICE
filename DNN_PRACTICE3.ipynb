{
  "nbformat": 4,
  "nbformat_minor": 0,
  "metadata": {
    "colab": {
      "provenance": [],
      "authorship_tag": "ABX9TyNqL4U90F9AOyknqQpeodo/",
      "include_colab_link": true
    },
    "kernelspec": {
      "name": "python3",
      "display_name": "Python 3"
    },
    "language_info": {
      "name": "python"
    }
  },
  "cells": [
    {
      "cell_type": "markdown",
      "metadata": {
        "id": "view-in-github",
        "colab_type": "text"
      },
      "source": [
        "<a href=\"https://colab.research.google.com/github/Swarnabh25/DNN_PRACTICE/blob/main/DNN_PRACTICE3.ipynb\" target=\"_parent\"><img src=\"https://colab.research.google.com/assets/colab-badge.svg\" alt=\"Open In Colab\"/></a>"
      ]
    },
    {
      "cell_type": "markdown",
      "source": [
        "# USING NUMPY"
      ],
      "metadata": {
        "id": "FBtTC66YhWsq"
      }
    },
    {
      "cell_type": "code",
      "source": [
        "import numpy as np"
      ],
      "metadata": {
        "id": "6YrHJi58lmwj"
      },
      "execution_count": 6,
      "outputs": []
    },
    {
      "cell_type": "code",
      "execution_count": 1,
      "metadata": {
        "id": "_TjZHWVHenyt"
      },
      "outputs": [],
      "source": [
        "# Define inputs\n",
        "inputs = [1, 2, 3, 4, 5]\n"
      ]
    },
    {
      "cell_type": "code",
      "source": [
        "# Define weights for each neuron in one list\n",
        "weights = [\n",
        "    [3, 4, 5, 6, 7],  # Weights for neuron 1\n",
        "    [1, 2, 1, 2, 1],  # Weights for neuron 2\n",
        "    [0, 1, 0, 1, 0]   # Weights for neuron 3\n",
        "]"
      ],
      "metadata": {
        "id": "n-g1_nrpiW4S"
      },
      "execution_count": 2,
      "outputs": []
    },
    {
      "cell_type": "code",
      "source": [
        "# Define biases for each neuron in another list\n",
        "biases = [3, 1, 2]  # Biases for neurons 1, 2, and 3\n"
      ],
      "metadata": {
        "id": "yUj6ICoMibrg"
      },
      "execution_count": 3,
      "outputs": []
    },
    {
      "cell_type": "code",
      "source": [
        "output_neuron_1= np.dot(weights[0],inputs)+ biases[0]\n",
        "output_neuron_2= np.dot(weights[1],inputs)+ biases[1]\n",
        "output_neuron_3= np.dot(weights[2],inputs)+ biases[2]"
      ],
      "metadata": {
        "id": "Jq7_dDOHimwn"
      },
      "execution_count": 16,
      "outputs": []
    },
    {
      "cell_type": "code",
      "source": [
        "print(\"output_neuron_1 =\",output_neuron_1)\n",
        "print(\"output_neuron_2 =\",output_neuron_2)\n",
        "print(\"output_neuron_3 =\",output_neuron_3)"
      ],
      "metadata": {
        "colab": {
          "base_uri": "https://localhost:8080/"
        },
        "id": "ZaDJr8wFmRSr",
        "outputId": "84e84f92-61ed-4b40-f17e-84290f86404d"
      },
      "execution_count": 17,
      "outputs": [
        {
          "output_type": "stream",
          "name": "stdout",
          "text": [
            "output_neuron_1 = 88\n",
            "output_neuron_2 = 22\n",
            "output_neuron_3 = 8\n"
          ]
        }
      ]
    }
  ]
}