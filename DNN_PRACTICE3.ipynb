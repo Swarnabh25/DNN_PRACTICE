{
  "nbformat": 4,
  "nbformat_minor": 0,
  "metadata": {
    "colab": {
      "provenance": [],
      "authorship_tag": "ABX9TyOUaOhtYZ9KTcqlslWGrq8E",
      "include_colab_link": true
    },
    "kernelspec": {
      "name": "python3",
      "display_name": "Python 3"
    },
    "language_info": {
      "name": "python"
    }
  },
  "cells": [
    {
      "cell_type": "markdown",
      "metadata": {
        "id": "view-in-github",
        "colab_type": "text"
      },
      "source": [
        "<a href=\"https://colab.research.google.com/github/Swarnabh25/DNN_PRACTICE/blob/main/DNN_PRACTICE3.ipynb\" target=\"_parent\"><img src=\"https://colab.research.google.com/assets/colab-badge.svg\" alt=\"Open In Colab\"/></a>"
      ]
    },
    {
      "cell_type": "markdown",
      "source": [
        "# USING NUMPY"
      ],
      "metadata": {
        "id": "FBtTC66YhWsq"
      }
    },
    {
      "cell_type": "code",
      "source": [
        "import numpy as np"
      ],
      "metadata": {
        "id": "6YrHJi58lmwj"
      },
      "execution_count": 6,
      "outputs": []
    },
    {
      "cell_type": "code",
      "execution_count": 1,
      "metadata": {
        "id": "_TjZHWVHenyt"
      },
      "outputs": [],
      "source": [
        "# Define inputs\n",
        "inputs = [1, 2, 3, 4, 5]\n"
      ]
    },
    {
      "cell_type": "code",
      "source": [
        "# Define weights for each neuron in one list\n",
        "weights = [\n",
        "    [3, 4, 5, 6, 7],  # Weights for neuron 1\n",
        "    [1, 2, 1, 2, 1],  # Weights for neuron 2\n",
        "    [0, 1, 0, 1, 0]   # Weights for neuron 3\n",
        "]"
      ],
      "metadata": {
        "id": "n-g1_nrpiW4S"
      },
      "execution_count": 2,
      "outputs": []
    },
    {
      "cell_type": "code",
      "source": [
        "# Define biases for each neuron in another list\n",
        "biases = [3, 1, 2]  # Biases for neurons 1, 2, and 3\n"
      ],
      "metadata": {
        "id": "yUj6ICoMibrg"
      },
      "execution_count": 3,
      "outputs": []
    },
    {
      "cell_type": "code",
      "source": [
        "outputs= np.dot(weights,inputs)+ biases\n"
      ],
      "metadata": {
        "id": "Jq7_dDOHimwn"
      },
      "execution_count": 19,
      "outputs": []
    },
    {
      "cell_type": "code",
      "source": [
        "outputs"
      ],
      "metadata": {
        "colab": {
          "base_uri": "https://localhost:8080/"
        },
        "id": "ZaDJr8wFmRSr",
        "outputId": "c96d4d85-c4b4-4918-ab50-69f6213baab8"
      },
      "execution_count": 20,
      "outputs": [
        {
          "output_type": "execute_result",
          "data": {
            "text/plain": [
              "array([88, 22,  8])"
            ]
          },
          "metadata": {},
          "execution_count": 20
        }
      ]
    }
  ]
}