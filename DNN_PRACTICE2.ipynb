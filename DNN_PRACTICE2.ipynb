{
  "nbformat": 4,
  "nbformat_minor": 0,
  "metadata": {
    "colab": {
      "provenance": [],
      "authorship_tag": "ABX9TyOraIF4gfJ3EjaUT8pI8+6S",
      "include_colab_link": true
    },
    "kernelspec": {
      "name": "python3",
      "display_name": "Python 3"
    },
    "language_info": {
      "name": "python"
    }
  },
  "cells": [
    {
      "cell_type": "markdown",
      "metadata": {
        "id": "view-in-github",
        "colab_type": "text"
      },
      "source": [
        "<a href=\"https://colab.research.google.com/github/Swarnabh25/DNN_PRACTICE/blob/main/DNN_PRACTICE2.ipynb\" target=\"_parent\"><img src=\"https://colab.research.google.com/assets/colab-badge.svg\" alt=\"Open In Colab\"/></a>"
      ]
    },
    {
      "cell_type": "markdown",
      "source": [
        "# MODELING MULTIPLE NEURONS"
      ],
      "metadata": {
        "id": "FBtTC66YhWsq"
      }
    },
    {
      "cell_type": "code",
      "execution_count": 1,
      "metadata": {
        "id": "_TjZHWVHenyt"
      },
      "outputs": [],
      "source": [
        "# Define inputs\n",
        "inputs = [1, 2, 3, 4, 5]\n"
      ]
    },
    {
      "cell_type": "code",
      "source": [
        "# Define weights for each neuron in one list\n",
        "weights = [\n",
        "    [3, 4, 5, 6, 7],  # Weights for neuron 1\n",
        "    [1, 2, 1, 2, 1],  # Weights for neuron 2\n",
        "    [0, 1, 0, 1, 0]   # Weights for neuron 3\n",
        "]\n"
      ],
      "metadata": {
        "id": "n-g1_nrpiW4S"
      },
      "execution_count": 2,
      "outputs": []
    },
    {
      "cell_type": "code",
      "source": [
        "# Define biases for each neuron in another list\n",
        "biases = [3, 1, 2]  # Biases for neurons 1, 2, and 3\n"
      ],
      "metadata": {
        "id": "yUj6ICoMibrg"
      },
      "execution_count": 3,
      "outputs": []
    },
    {
      "cell_type": "code",
      "source": [
        "# Calculate outputs for each neuron using a for loop\n",
        "outputs = []\n",
        "for i in range(len(weights)):\n",
        "    # Calculate the weighted sum of inputs for the current neuron\n",
        "    weighted_sum = sum([x * w for x, w in zip(inputs, weights[i])])\n",
        "    # Add the bias for the current neuron\n",
        "    neuron_output = weighted_sum + biases[i]\n",
        "    # Append the output of the current neuron to the list of outputs\n",
        "    outputs.append(neuron_output)\n"
      ],
      "metadata": {
        "id": "Jq7_dDOHimwn"
      },
      "execution_count": 4,
      "outputs": []
    },
    {
      "cell_type": "code",
      "source": [
        "# Print outputs\n",
        "for i, output in enumerate(outputs):\n",
        "    # Print the output of each neuron along with its index\n",
        "    print(\"Output of Neuron\", i+1, \":\", output)"
      ],
      "metadata": {
        "colab": {
          "base_uri": "https://localhost:8080/"
        },
        "id": "Sfc9fNWqjA8M",
        "outputId": "b0a7325c-6536-4f3c-c70e-5423d8c5be8d"
      },
      "execution_count": 5,
      "outputs": [
        {
          "output_type": "stream",
          "name": "stdout",
          "text": [
            "Output of Neuron 1 : 88\n",
            "Output of Neuron 2 : 22\n",
            "Output of Neuron 3 : 8\n"
          ]
        }
      ]
    }
  ]
}