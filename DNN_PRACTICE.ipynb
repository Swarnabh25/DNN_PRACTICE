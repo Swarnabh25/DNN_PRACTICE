{
  "nbformat": 4,
  "nbformat_minor": 0,
  "metadata": {
    "colab": {
      "provenance": [],
      "authorship_tag": "ABX9TyNDYizRTDs/skPoKdT262nV",
      "include_colab_link": true
    },
    "kernelspec": {
      "name": "python3",
      "display_name": "Python 3"
    },
    "language_info": {
      "name": "python"
    }
  },
  "cells": [
    {
      "cell_type": "markdown",
      "metadata": {
        "id": "view-in-github",
        "colab_type": "text"
      },
      "source": [
        "<a href=\"https://colab.research.google.com/github/Swarnabh25/DNN_PRACTICE/blob/main/DNN_PRACTICE.ipynb\" target=\"_parent\"><img src=\"https://colab.research.google.com/assets/colab-badge.svg\" alt=\"Open In Colab\"/></a>"
      ]
    },
    {
      "cell_type": "code",
      "execution_count": 1,
      "metadata": {
        "id": "1upCVgvKaOly"
      },
      "outputs": [],
      "source": [
        "inputs = [1,2,3,4,5]\n",
        "weights = [3,4,5,6,7]\n",
        "bias = 3"
      ]
    },
    {
      "cell_type": "code",
      "source": [
        "output = inputs[0]*weights[0]+inputs[1]*weights[1]+inputs[2]*weights[2]+inputs[3]*weights[3]+inputs[4]*weights[4]+ bias"
      ],
      "metadata": {
        "id": "UOnJ4BQGa2iU"
      },
      "execution_count": 2,
      "outputs": []
    },
    {
      "cell_type": "code",
      "source": [
        "print(output)"
      ],
      "metadata": {
        "colab": {
          "base_uri": "https://localhost:8080/"
        },
        "id": "_fukjCCAbW34",
        "outputId": "8d316800-e328-4529-e3e2-3f0452a241d8"
      },
      "execution_count": 3,
      "outputs": [
        {
          "output_type": "stream",
          "name": "stdout",
          "text": [
            "88\n"
          ]
        }
      ]
    }
  ]
}