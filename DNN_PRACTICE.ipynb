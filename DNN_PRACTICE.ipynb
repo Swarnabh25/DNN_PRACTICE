{
  "nbformat": 4,
  "nbformat_minor": 0,
  "metadata": {
    "colab": {
      "provenance": [],
      "authorship_tag": "ABX9TyO1ItReL45QNcv0TPub5aA5",
      "include_colab_link": true
    },
    "kernelspec": {
      "name": "python3",
      "display_name": "Python 3"
    },
    "language_info": {
      "name": "python"
    }
  },
  "cells": [
    {
      "cell_type": "markdown",
      "metadata": {
        "id": "view-in-github",
        "colab_type": "text"
      },
      "source": [
        "<a href=\"https://colab.research.google.com/github/Swarnabh25/DNN_PRACTICE/blob/main/DNN_PRACTICE.ipynb\" target=\"_parent\"><img src=\"https://colab.research.google.com/assets/colab-badge.svg\" alt=\"Open In Colab\"/></a>"
      ]
    },
    {
      "cell_type": "code",
      "execution_count": 4,
      "metadata": {
        "id": "1upCVgvKaOly"
      },
      "outputs": [],
      "source": [
        "# Inputs represent the input values to the neuron. In a neural network, these could be features from a dataset or outputs from previous layers.\n",
        "inputs = [1, 2, 3, 4, 5]\n",
        "\n",
        "# Weights represent the strength of connections between the inputs and the neuron. Each input is multiplied by its corresponding weight.\n",
        "weights = [3, 4, 5, 6, 7]\n",
        "\n",
        "# Bias is an additional parameter added to the neuron. It allows the neuron to adjust its output independently of the inputs.\n",
        "bias = 3"
      ]
    },
    {
      "cell_type": "code",
      "source": [
        "# The neuron calculates its output by taking a weighted sum of its inputs, then adding the bias term.\n",
        "# This is a simplified representation of how a neuron computes its output in a neural network.\n",
        "output = inputs[0]*weights[0]+inputs[1]*weights[1]+inputs[2]*weights[2]+inputs[3]*weights[3]+inputs[4]*weights[4]+ bias"
      ],
      "metadata": {
        "id": "UOnJ4BQGa2iU"
      },
      "execution_count": 6,
      "outputs": []
    },
    {
      "cell_type": "code",
      "source": [
        "print(output)"
      ],
      "metadata": {
        "colab": {
          "base_uri": "https://localhost:8080/"
        },
        "id": "_fukjCCAbW34",
        "outputId": "cab42a2f-ffac-4148-b95a-d3da87c8df50"
      },
      "execution_count": 7,
      "outputs": [
        {
          "output_type": "stream",
          "name": "stdout",
          "text": [
            "88\n"
          ]
        }
      ]
    }
  ]
}